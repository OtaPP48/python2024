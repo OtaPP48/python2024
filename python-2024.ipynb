{
 "cells": [
  {
   "cell_type": "markdown",
   "metadata": {},
   "source": [
    "<img src=\"https://github.com/OtaPP48/python2024/blob/main/fig/Python.png?raw=true\" alt=\"Python\" width=\"300\">\n",
    "<p><font size=\"12\"><b>Python Reference Code 2023</b></font></p>\n",
    "<p>โค้ดต่อไปนี้เป็นโค้ดสำหรับวิชาไพธอน ภาคฤดูใบไม้ผลิ ปีการศึกษา 2023</p>\n",
    "<p>โค้ดนี้จัดทำเพื่ออ้างอิงเท่านั้น และโค้ดทั้งหมดเขียนขึ้นด้วยมือ ไม่มีการใช้ generative AI เป็นตัวช่วยแต่อย่างใด</p>\n",
    "<p><b> ไม่อนุญาตให้ทำซ้ำ ดัดแปลงเนื้อหา หรือเผยแพร่ให้บุคคลอื่นที่ไม่เกี่ยวข้อง <u>ผู้ใดฝ่าฝืน ขอให้ติด F</u> สาธุ </b></p>"
   ]
  },
  {
   "cell_type": "markdown",
   "metadata": {},
   "source": [
    "# Python Week 3\n",
    "เฉลยโจทย์ Python Exercise\n",
    "โปรด refer โจทย์จากไฟล์ <a href = \"Users/ppp48/Documents/Studying/KUAS/Python/Teaching/Materials/IP1x03.pdf\"> IP1x03.pdf "
   ]
  },
  {
   "cell_type": "markdown",
   "metadata": {},
   "source": [
    "## 1 ใช้ Python เป็นเครื่องคิดเลข\n",
    "จงเขียนโค้ดจากโจทย์ต่อไปนี้"
   ]
  },
  {
   "cell_type": "code",
   "execution_count": 1,
   "metadata": {},
   "outputs": [
    {
     "name": "stdout",
     "output_type": "stream",
     "text": [
      "2562\n",
      "31.41592653589793\n",
      "78.53981633974483\n",
      "523.5987755982989\n"
     ]
    }
   ],
   "source": [
    "from math import pi\n",
    "\n",
    "# ข้อ 1\n",
    "m = 42\n",
    "s = 42\n",
    "t = (m*60)+s\n",
    "print(t)\n",
    "\n",
    "# ข้อ 2\n",
    "r = 5\n",
    "c = 2*pi*r\n",
    "print(c)\n",
    "\n",
    "# ข้อ 3\n",
    "r = 5\n",
    "a = pi*(r**2)\n",
    "print(a)\n",
    "\n",
    "# ข้อ 4\n",
    "r = 5\n",
    "v = (4/3)*pi*(r**3)\n",
    "print(v)"
   ]
  },
  {
   "cell_type": "markdown",
   "metadata": {},
   "source": [
    "## 2 อัลกอริทึมและโปรแกรม\n",
    "### ตอนที่ 2.1\n",
    "แปลงข้อมูลจากเซลเซียสไปฟาเรนไฮต์"
   ]
  },
  {
   "cell_type": "code",
   "execution_count": 3,
   "metadata": {},
   "outputs": [
    {
     "name": "stdout",
     "output_type": "stream",
     "text": [
      "122.0\n"
     ]
    }
   ],
   "source": [
    "c = int(input())\n",
    "f = c * 1.8\n",
    "f = f + 32\n",
    "print(f)"
   ]
  },
  {
   "cell_type": "markdown",
   "metadata": {},
   "source": [
    "### ตอนที่ 2.2\n",
    "แปลข้อมูลจากฟาเรนไฮต์กลับมาเป็นเซลเซียส"
   ]
  },
  {
   "cell_type": "code",
   "execution_count": 2,
   "metadata": {},
   "outputs": [
    {
     "name": "stdout",
     "output_type": "stream",
     "text": [
      "100.0\n"
     ]
    }
   ],
   "source": [
    "f = int(input())\n",
    "c = f - 32\n",
    "c = c * 5\n",
    "c = c / 9\n",
    "print(c)"
   ]
  },
  {
   "cell_type": "markdown",
   "metadata": {},
   "source": [
    "## 3 โฟลว์ชาร์ตและโปรแกรม\n",
    "แปลงนาทีเป็นหน่วยชั่วโมงและนาที"
   ]
  },
  {
   "cell_type": "code",
   "execution_count": 6,
   "metadata": {},
   "outputs": [
    {
     "name": "stdout",
     "output_type": "stream",
     "text": [
      "4 hours 14 minutes\n"
     ]
    }
   ],
   "source": [
    "m = int(input()) # input นาที m\n",
    "h = m // 60\n",
    "m = m - (60 * h)\n",
    "print(h, \"hours\", m, \"minutes\")"
   ]
  },
  {
   "cell_type": "markdown",
   "metadata": {},
   "source": [
    "## 4 อินพุตและเอาต์พุตหลายตัว\n",
    "หาด้านตรงข้ามมุมฉาก (hypotenuse) และพื้นที่ (area) ของ<b>สามเหลี่ยมมุมฉาก</b>ใด ๆ "
   ]
  },
  {
   "cell_type": "code",
   "execution_count": 8,
   "metadata": {},
   "outputs": [
    {
     "name": "stdout",
     "output_type": "stream",
     "text": [
      "ยาว 5.0 พื้นที่ 12\n"
     ]
    }
   ],
   "source": [
    "from math import *\n",
    "a = int(input()) # 3\n",
    "b = int(input()) # 4\n",
    "c = sqrt((a**2)+(b**2))\n",
    "area = a*b\n",
    "print(\"ยาว\" ,c, \"พื้นที่\" ,area)"
   ]
  },
  {
   "cell_type": "markdown",
   "metadata": {},
   "source": [
    "## 5 ผลคูณภายในของเวกเตอร์\n",
    "เราจะหาผลคูณภายในของเวกเตอร์ <br>\n",
    "วิธีอินพุต ให้อินพุตเป็นเวกเตอร์ 2x2 ดังรูปแบบต่อไปนี้ <code>(a,b)</code> <br>\n",
    "เราจะใช้ <code>eval()</code> เพื่อแปลง string เป็น array"
   ]
  },
  {
   "cell_type": "code",
   "execution_count": 10,
   "metadata": {},
   "outputs": [
    {
     "name": "stdout",
     "output_type": "stream",
     "text": [
      "(2, 3) ⋅ (3, 5) = 21\n"
     ]
    }
   ],
   "source": [
    "a = input(\"\")\n",
    "b = input(\"\")\n",
    "va = eval(a)\n",
    "vb = eval(b)\n",
    "prod = va[0]*vb[0] + va[1]*vb[1]\n",
    "print(va,\"⋅\",vb,\"=\",prod)"
   ]
  },
  {
   "cell_type": "markdown",
   "metadata": {},
   "source": [
    "## 6 ข้อโบนัส\n",
    "### 6.1 While loop อย่างง่าย\n",
    "โจทย์ให้เขียน while loop เพื่อบวกเลขจาก $1$ ถึง $n$"
   ]
  },
  {
   "cell_type": "code",
   "execution_count": 12,
   "metadata": {},
   "outputs": [
    {
     "name": "stdout",
     "output_type": "stream",
     "text": [
      "55\n"
     ]
    }
   ],
   "source": [
    "n = int(input())\n",
    "s = int(0)\n",
    "while (n > 0) :\n",
    "    s = s + n\n",
    "    n -= 1\n",
    "print(s)"
   ]
  },
  {
   "cell_type": "markdown",
   "metadata": {},
   "source": [
    "### 6.2 แฟคทอเรียล\n",
    "ให้ใช้ while loop เขียนแฟคทอเรียล $n!$ ดังนี้\n",
    "$$\n",
    "    n! = \\left\\{ \\begin{array}{ll}\n",
    "        n(n-1)!; & n > 1 \\\\\n",
    "        1; & \\text{ในกรณีอื่น}\n",
    "    \\end{array}\\right.\n",
    "$$\n",
    "อย่าลืมเขียนให้โปรแกรมเอาท์พุตออกมาอย่างง่าย"
   ]
  },
  {
   "cell_type": "code",
   "execution_count": 13,
   "metadata": {},
   "outputs": [
    {
     "name": "stdout",
     "output_type": "stream",
     "text": [
      "120\n"
     ]
    }
   ],
   "source": [
    "n = int(input())\n",
    "s = int(1)\n",
    "while (n > 0) :\n",
    "    s = s * n\n",
    "    n -= 1\n",
    "print(s)"
   ]
  },
  {
   "cell_type": "markdown",
   "metadata": {},
   "source": [
    "### 6.3 จำนวนฟีโบนักชี\n",
    "กำหนด $F_n$ เป็นจำนวนฟีโบนักชีลำดับที่ $n$ เมื่อ $F_0 = 0$, $F_1 = 1$, และ $F_n = F_{n-1} + F_{n-2}$ <br>\n",
    "โจทย์ให้เราเขียนโปรแกรมหาจำนวนฟีโบนักชี $F_n$ สำหรับลำดับที่ $n$ ใด ๆ"
   ]
  },
  {
   "cell_type": "code",
   "execution_count": 14,
   "metadata": {},
   "outputs": [
    {
     "name": "stdout",
     "output_type": "stream",
     "text": [
      "233\n"
     ]
    }
   ],
   "source": [
    "n = int(input())\n",
    "a = 0\n",
    "b = 1\n",
    "while n > 0:\n",
    "    c = a + b\n",
    "    a = b\n",
    "    b = c\n",
    "    n -= 1\n",
    "print(a)"
   ]
  },
  {
   "cell_type": "markdown",
   "metadata": {},
   "source": [
    "### 6.4 หาลิมิตของอัตราส่วนฟีโบนักชี\n",
    "เราทราบว่าเมื่อจำนวนฟีโบนักชีเพิ่มขึ้นเรื่อย ๆ แล้วอัตราส่วนระหว่าง 2 จำนวน $\\dfrac{F_n}{F_{n+1}}$ ใด ๆ จะลู่เข้าหาค่าหนึ่ง <br>\n",
    "โจทย์ให้เราเขียนโปรแกรมหาอัตราส่วนนั้น"
   ]
  },
  {
   "cell_type": "code",
   "execution_count": 15,
   "metadata": {},
   "outputs": [
    {
     "name": "stdout",
     "output_type": "stream",
     "text": [
      "1.618033988749895\n"
     ]
    }
   ],
   "source": [
    "n = int(input())\n",
    "a = 0\n",
    "b = 1\n",
    "while n > 0:\n",
    "    c = a + b\n",
    "    a = b\n",
    "    b = c\n",
    "    n -= 1\n",
    "print(b/a)"
   ]
  },
  {
   "cell_type": "markdown",
   "metadata": {},
   "source": [
    "# Python Week 4\n",
    "โปรด refer โจทย์จากไฟล์ <a href = \"Users/ppp48/Documents/Studying/KUAS/Python/Teaching/Materials/IP1x04.pdf\"> IP1x04.pdf "
   ]
  },
  {
   "cell_type": "markdown",
   "metadata": {},
   "source": [
    "## 1. ฟังก์ชันทางคณิตศาสตร์\n",
    "ให้เขียนฟังก์ชันขึ้นมาตามโจทย์ ดังนี้"
   ]
  },
  {
   "cell_type": "code",
   "execution_count": 3,
   "metadata": {},
   "outputs": [
    {
     "name": "stdout",
     "output_type": "stream",
     "text": [
      "3.141592653589793 12.566370614359172 28.274333882308138\n",
      "4.1887902047863905 33.510321638291124 113.09733552923254\n",
      "0.5 2.0 6.0\n",
      "1.4142135623730951 5.0 13.0\n",
      "1.4142135623730951 5.0 5.0\n"
     ]
    }
   ],
   "source": [
    "import math\n",
    "\n",
    "def circle_area(r):\n",
    "    return math.pi * r**2\n",
    "\n",
    "def sphere_volume(r):\n",
    "    return (4/3) * math.pi * r**3\n",
    "\n",
    "def triangle_area(a,b):\n",
    "    return (1/2) * a * b\n",
    "\n",
    "def hypotenuse(a,b):\n",
    "    return math.sqrt((a**2)+(b**2))\n",
    "\n",
    "def point_distance(x1, y1, x2, y2):\n",
    "    return math.sqrt(((x1-x2)**2)+((y1-y2)**2))\n",
    "\n",
    "print(circle_area(1),circle_area(2),circle_area(3))\n",
    "print(sphere_volume(1),sphere_volume(2),sphere_volume(3))\n",
    "print(triangle_area(1,1),triangle_area(2,2),triangle_area(3,4))\n",
    "print(hypotenuse(1,1),hypotenuse(3,4),hypotenuse(5,12))\n",
    "print(point_distance(0,0,1,1),point_distance(3,4,6,8),point_distance(8,6,4,3))"
   ]
  },
  {
   "cell_type": "markdown",
   "metadata": {},
   "source": [
    "## 2. ฟังก์ชัน string\n",
    "โจทย์ให้เขียนฟังก์ชัน <code>justify(s)</code> เพื่อเพิ่มช่องว่างทางซ้ายของ string <code>s</code> ให้จำนวนตัวอักษรใน string นั้น ๆ รวมกันเป็น 10 เช่น\n",
    "```\n",
    "print(justify(\"hello\"))         # \"     hello\"\n",
    "print(len(justify(\"hello\")))    # 10 \n",
    "```\n",
    "โดย built-in function <code>len(s)</code> เป็นฟังก์ชันที่บอกว่าใน string `s` มีตัวอักษรทั้งหมดกี่ตัว"
   ]
  },
  {
   "cell_type": "code",
   "execution_count": 4,
   "metadata": {},
   "outputs": [],
   "source": [
    "def justify(s):\n",
    "    tab = 10 - len(s)\n",
    "    return tab * \" \" + s"
   ]
  },
  {
   "cell_type": "markdown",
   "metadata": {},
   "source": [
    "ลองทดสอบดู (อย่าลืมรันข้างบนก่อน)"
   ]
  },
  {
   "cell_type": "code",
   "execution_count": 6,
   "metadata": {},
   "outputs": [
    {
     "name": "stdout",
     "output_type": "stream",
     "text": [
      "       one\n",
      "       two\n",
      "     three\n",
      "      four\n",
      "      five\n",
      "I love you\n"
     ]
    }
   ],
   "source": [
    "print(justify(\"one\"))\n",
    "print(justify(\"two\"))\n",
    "print(justify(\"three\"))\n",
    "print(justify(\"four\"))\n",
    "print(justify(\"five\"))\n",
    "print(justify(\"I love you\"))"
   ]
  },
  {
   "cell_type": "markdown",
   "metadata": {},
   "source": [
    "## 3. การรวมกลุ่มโดยใช้ระดับชั้น\n",
    "โจทย์ให้เราเขียนฟังก์ชันที่ return เวลาปัจจุบันออกมาในรูปแบบ `HH:MM:SS`"
   ]
  },
  {
   "cell_type": "markdown",
   "metadata": {},
   "source": [
    "### 3.1 เติม 0 หน้าเลข\n",
    "เราจะเขียนฟังก์ชัน `pad(n)` เพื่อเติม string `\"0\"` หน้าตัวเลขที่เป็นหลักเดียว"
   ]
  },
  {
   "cell_type": "code",
   "execution_count": 1,
   "metadata": {},
   "outputs": [
    {
     "name": "stdout",
     "output_type": "stream",
     "text": [
      "00\n",
      "02\n",
      "02\n",
      "42\n",
      "42\n"
     ]
    }
   ],
   "source": [
    "def pad(n):\n",
    "    t = 2 - len(str(n))\n",
    "    return \"0\" * t + str(n)\n",
    "\n",
    "print(pad(\"\")) \n",
    "print(pad(\"2\")) \n",
    "print(pad(2)) \n",
    "print(pad(\"42\"))\n",
    "print(pad(42))"
   ]
  },
  {
   "cell_type": "markdown",
   "metadata": {},
   "source": [
    "### 3.2 เขียนให้ ชม. นาที วินาที ในรูป string ของเวลา\n",
    "เราจะเขียนฟังก์ชัน `alarm_format(h,m,s)` ให้เขียนเวลาออกมาในรูปแบบ `HH:MM:SS`"
   ]
  },
  {
   "cell_type": "code",
   "execution_count": 2,
   "metadata": {},
   "outputs": [
    {
     "name": "stdout",
     "output_type": "stream",
     "text": [
      "13:02:07\n"
     ]
    }
   ],
   "source": [
    "def alarm_format(h, m, s):\n",
    "    return pad(h) + \":\" + pad(m) + \":\" + pad(s)\n",
    "\n",
    "print(alarm_format(13, 2, 7))"
   ]
  },
  {
   "cell_type": "markdown",
   "metadata": {},
   "source": [
    "### 3.3 แสดงเวลาปัจจุบันออกมา\n",
    "เราจะอาศัยโมดูล `datetime` ในการแสดงผลเวลาปัจจุบัน ดังนี้"
   ]
  },
  {
   "cell_type": "code",
   "execution_count": 3,
   "metadata": {},
   "outputs": [
    {
     "name": "stdout",
     "output_type": "stream",
     "text": [
      "13:29:33\n"
     ]
    }
   ],
   "source": [
    "import datetime\n",
    "\n",
    "def time_string():\n",
    "    now = datetime.datetime.now()\n",
    "    return alarm_format(now.hour, now.minute, now.second)\n",
    "\n",
    "print(time_string())"
   ]
  },
  {
   "cell_type": "markdown",
   "metadata": {},
   "source": [
    "## 4. ฟังก์ชันในฐานะ value อันดับแรก\n",
    "เราจะเขียนฟังก์ชัน `twice(f,x)` เพื่อเรียกใช้ฟังก์ชัน `f(x)` สองครั้ง"
   ]
  },
  {
   "cell_type": "code",
   "execution_count": 4,
   "metadata": {},
   "outputs": [
    {
     "name": "stdout",
     "output_type": "stream",
     "text": [
      "hello\n",
      "hello\n"
     ]
    }
   ],
   "source": [
    "def twice(f,x):\n",
    "    f(x)\n",
    "    f(x)\n",
    "\n",
    "twice(print, \"hello\")"
   ]
  },
  {
   "cell_type": "markdown",
   "metadata": {},
   "source": [
    "## 5. Challenge\n",
    "### 5.1 Default argument values"
   ]
  },
  {
   "cell_type": "code",
   "execution_count": 1,
   "metadata": {},
   "outputs": [
    {
     "name": "stdout",
     "output_type": "stream",
     "text": [
      "10\n",
      "2\n"
     ]
    }
   ],
   "source": [
    "def double(n=1):\n",
    "    return n * 2\n",
    "\n",
    "print(double(5))\n",
    "print(double())"
   ]
  },
  {
   "cell_type": "markdown",
   "metadata": {},
   "source": [
    "### 5.2 A more general pad() function"
   ]
  },
  {
   "cell_type": "code",
   "execution_count": 6,
   "metadata": {},
   "outputs": [
    {
     "name": "stdout",
     "output_type": "stream",
     "text": [
      "     hello\n",
      "00\n",
      "04\n",
      "42\n",
      "--------\n",
      ".....123\n",
      "00456789\n"
     ]
    }
   ],
   "source": [
    "def pad(n, width, character):\n",
    "    n_str = str(n)\n",
    "    padLength = max(0, width - len(n_str))\n",
    "    return character * padLength + n_str\n",
    "\n",
    "print(pad(\"hello\", 10, ' ')) # \" hello\"\n",
    "print(pad(\"\", 2, '0')) # \"00\"\n",
    "print(pad(4, 2, '0')) # \"04\"\n",
    "print(pad(42, 2, '0')) # \"42\"\n",
    "print(pad(\"\", 8, \"-\")) # \"--------\"\n",
    "print(pad(123, 8, \".\")) # \".....123\"\n",
    "print(pad(456789, 8, \"0\")) # \"00456789\""
   ]
  },
  {
   "cell_type": "markdown",
   "metadata": {},
   "source": [
    "### 5.3 Defaults for missing pad() arguments"
   ]
  },
  {
   "cell_type": "code",
   "execution_count": 8,
   "metadata": {},
   "outputs": [
    {
     "name": "stdout",
     "output_type": "stream",
     "text": [
      "  123456\n"
     ]
    }
   ],
   "source": [
    "def pad(n, width=8, character=' '):\n",
    "    n_str = str(n)\n",
    "    return (width - len(n_str)) * character + n_str\n",
    "\n",
    "print(pad(123456))"
   ]
  },
  {
   "cell_type": "markdown",
   "metadata": {},
   "source": [
    "### 5.4 Generalising the twice() function"
   ]
  },
  {
   "cell_type": "code",
   "execution_count": 9,
   "metadata": {},
   "outputs": [
    {
     "name": "stdout",
     "output_type": "stream",
     "text": [
      "cool!\n",
      "cool!\n",
      "cool!\n",
      "cool!\n",
      "cooler!\n",
      "cooler!\n",
      "cooler!\n",
      "cooler!\n",
      "cooler!\n",
      "cooler!\n",
      "cooler!\n",
      "cooler!\n"
     ]
    }
   ],
   "source": [
    "def twice(f, *args):\n",
    "    f(*args)\n",
    "    f(*args)\n",
    "\n",
    "\"\"\"\n",
    "def print_args(*args):\n",
    "    print(\"args are:\", *args)\n",
    "twice(print_args, \"hello\", 42, \"way\", \"cool!\")\n",
    "\"\"\"\n",
    "\n",
    "twice(twice, print, \"cool!\")\n",
    "twice(twice, twice, print, \"cooler!\")\n"
   ]
  },
  {
   "cell_type": "markdown",
   "metadata": {},
   "source": [
    "# Python Week 5\n",
    "โปรด refer โจทย์จากไฟล์ <a href = \"Users/ppp48/Documents/Studying/KUAS/Python/Teaching/Materials/IP1x05.pdf\"> IP1x05.pdf "
   ]
  },
  {
   "cell_type": "markdown",
   "metadata": {},
   "source": [
    "# Python Week 6\n",
    "โปรด refer โจทย์จากไฟล์ <a href = \"https://github.com/OtaPP48/python2024/blob/main/question/IP1x06.pdf\"> IP1x06.pdf "
   ]
  },
  {
   "cell_type": "markdown",
   "metadata": {},
   "source": [
    "## 5. ข้อโบนัส อัลกอริทึมพื้นฐาน: การแสดงผลจำนวนเต็ม\n",
    "เราจะมาเล่นอะไรสนุก ๆ กับฟังก์ชัน `print(n)` กัน"
   ]
  },
  {
   "cell_type": "markdown",
   "metadata": {},
   "source": [
    "### 5.1 Separating the units column from the rest of the digits"
   ]
  },
  {
   "cell_type": "code",
   "execution_count": 4,
   "metadata": {},
   "outputs": [
    {
     "name": "stdout",
     "output_type": "stream",
     "text": [
      "0\n",
      "321\n",
      "1\n",
      "32\n"
     ]
    }
   ],
   "source": [
    "def printNum(n):\n",
    "    lektai = n % 10\n",
    "    leknha = n // 10\n",
    "    print(lektai)\n",
    "    print(leknha)\n",
    "\n",
    "printNum(3210)\n",
    "printNum(321)"
   ]
  },
  {
   "cell_type": "markdown",
   "metadata": {},
   "source": [
    "### 5.2 Printing all the digits of an integer, backwards"
   ]
  },
  {
   "cell_type": "code",
   "execution_count": 7,
   "metadata": {},
   "outputs": [
    {
     "name": "stdout",
     "output_type": "stream",
     "text": [
      "0\n",
      "1\n",
      "2\n",
      "3\n"
     ]
    }
   ],
   "source": [
    "def printNum(n):\n",
    "    if n == 0:\n",
    "        return\n",
    "    lektai = n % 10\n",
    "    leknha = n // 10\n",
    "    print(lektai)\n",
    "    if leknha > 0:\n",
    "        printNum(leknha)\n",
    "\n",
    "printNum(3210)\n",
    "# printNum(1234)"
   ]
  },
  {
   "cell_type": "markdown",
   "metadata": {},
   "source": [
    "### 5.3 Printing all the digits of an integer, forwards"
   ]
  },
  {
   "cell_type": "code",
   "execution_count": 8,
   "metadata": {},
   "outputs": [
    {
     "name": "stdout",
     "output_type": "stream",
     "text": [
      "3\n",
      "2\n",
      "1\n",
      "0\n"
     ]
    }
   ],
   "source": [
    "def printNum(n):\n",
    "    if n == 0:\n",
    "        return\n",
    "    leknha = n // 10\n",
    "    lektai = n % 10\n",
    "    if leknha > 0:\n",
    "        printNum(leknha)\n",
    "    print(lektai)\n",
    "\n",
    "printNum(3210)"
   ]
  },
  {
   "cell_type": "markdown",
   "metadata": {},
   "source": [
    "### 5.4 Eliminating the newline characters between digits"
   ]
  },
  {
   "cell_type": "code",
   "execution_count": 27,
   "metadata": {},
   "outputs": [
    {
     "name": "stdout",
     "output_type": "stream",
     "text": [
      "3210"
     ]
    }
   ],
   "source": [
    "def printNum(n):\n",
    "    if n == 0:\n",
    "        return\n",
    "    leknha = n // 10\n",
    "    lektai = n % 10\n",
    "    if leknha > 0:\n",
    "        printNum(leknha)\n",
    "    print(lektai,end = \"\")\n",
    "\n",
    "printNum(3210)"
   ]
  },
  {
   "cell_type": "markdown",
   "metadata": {},
   "source": [
    "### 5.4 Printing in bases other than 10"
   ]
  },
  {
   "cell_type": "code",
   "execution_count": 43,
   "metadata": {},
   "outputs": [
    {
     "name": "stdout",
     "output_type": "stream",
     "text": [
      "\n",
      "3210\n",
      "377\n",
      "101010"
     ]
    }
   ],
   "source": [
    "def printNum(n,b):\n",
    "    if n == 0:\n",
    "        return\n",
    "    leknha = n // b\n",
    "    lektai = n % b\n",
    "    if leknha > 0:\n",
    "        printNum(leknha,b)\n",
    "    else:\n",
    "        print()\n",
    "    print(lektai,end = \"\")\n",
    "\n",
    "printNum(3210,10) \n",
    "printNum(255,8)\n",
    "printNum(42,2)"
   ]
  },
  {
   "cell_type": "markdown",
   "metadata": {},
   "source": [
    "### 5.6 Specifying the minimum number of digits to print"
   ]
  },
  {
   "cell_type": "code",
   "execution_count": 44,
   "metadata": {},
   "outputs": [
    {
     "name": "stdout",
     "output_type": "stream",
     "text": [
      "\n",
      "3210\n",
      "377\n",
      "0377\n",
      "00101010"
     ]
    }
   ],
   "source": [
    "def printNum(n,b,w):\n",
    "    if n == 0 and w <= 0:\n",
    "        return\n",
    "    leknha = n // b\n",
    "    lektai = n % b\n",
    "    if leknha > 0:\n",
    "        printNum(leknha,b,w-1)\n",
    "    else:\n",
    "        if w > 1:\n",
    "            printNum(0,b,w-1)\n",
    "        else:\n",
    "            print()\n",
    "    print(lektai,end = \"\")\n",
    "\n",
    "printNum(3210,10,3) \n",
    "printNum(255,8,3)\n",
    "printNum(255,8,4)\n",
    "printNum(42,2,8)"
   ]
  },
  {
   "cell_type": "markdown",
   "metadata": {},
   "source": [
    "### 5.7 Specifying the character to use when padding"
   ]
  },
  {
   "cell_type": "code",
   "execution_count": 38,
   "metadata": {},
   "outputs": [
    {
     "name": "stdout",
     "output_type": "stream",
     "text": [
      "\n",
      "....3210\n",
      "     377\n",
      "00101010"
     ]
    }
   ],
   "source": [
    "def printNum(n,b,w,p):\n",
    "    leknha = n // b\n",
    "    lektai = n % b\n",
    "    if leknha > 0:\n",
    "        printNum(leknha,b,w-1,p)\n",
    "    else:\n",
    "        print()\n",
    "        if w > 1:\n",
    "            while w>1:\n",
    "                print(p, end=\"\")\n",
    "                w-=1       \n",
    "    print(lektai, end=\"\")\n",
    "\n",
    "printNum(3210,10,8,\".\") \n",
    "printNum(255,8,8,\" \")\n",
    "printNum(42,2,8,\"0\")"
   ]
  },
  {
   "cell_type": "markdown",
   "metadata": {},
   "source": [
    "### 5.8 Sensible defaults for base, width, and padding"
   ]
  },
  {
   "cell_type": "code",
   "execution_count": 39,
   "metadata": {},
   "outputs": [
    {
     "name": "stdout",
     "output_type": "stream",
     "text": [
      "\n",
      "3210\n",
      "513\n",
      "xx101010"
     ]
    }
   ],
   "source": [
    "def printNum(n,b=10,w=1,p=\"\"):\n",
    "    leknha = n // b\n",
    "    lektai = n % b\n",
    "    if leknha > 0:\n",
    "        printNum(leknha,b,w-1,p)\n",
    "    else:\n",
    "        print()\n",
    "        if w > 1:\n",
    "            while w>1:\n",
    "                print(p, end=\"\")\n",
    "                w-=1       \n",
    "    print(lektai, end=\"\")\n",
    "\n",
    "printNum(3210)\n",
    "printNum(255,7)\n",
    "printNum(42,2,8,\"x\")"
   ]
  }
 ],
 "metadata": {
  "kernelspec": {
   "display_name": "Python 3",
   "language": "python",
   "name": "python3"
  },
  "language_info": {
   "codemirror_mode": {
    "name": "ipython",
    "version": 3
   },
   "file_extension": ".py",
   "mimetype": "text/x-python",
   "name": "python",
   "nbconvert_exporter": "python",
   "pygments_lexer": "ipython3",
   "version": "3.11.3"
  }
 },
 "nbformat": 4,
 "nbformat_minor": 2
}
